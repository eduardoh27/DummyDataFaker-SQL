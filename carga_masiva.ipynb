{
 "cells": [
  {
   "cell_type": "code",
   "execution_count": 2,
   "metadata": {},
   "outputs": [],
   "source": [
    "from faker import Faker\n",
    "import random\n",
    "\n",
    "# Instanciar Faker\n",
    "fake = Faker()"
   ]
  },
  {
   "cell_type": "code",
   "execution_count": 7,
   "metadata": {},
   "outputs": [],
   "source": [
    "def cargarCliente(fake : Faker, n : int = 0):\n",
    "\n",
    "    # Crear el archivo .txt\n",
    "    with open('inserts_cliente.txt', 'w') as f:\n",
    "        # Generar n sentencias INSERT\n",
    "        for id in range(1, n+1):\n",
    "            cedula = id\n",
    "            correo = fake.email()\n",
    "            nombre = fake.name() #.replace(\"'\", \"''\")  # Asegúrate de que el nombre no contenga apóstrofos\n",
    "            celular = fake.unique.random_int(min=3000000000, max=3999999999)  # Número de celular único de 10 dígitos quee empieza por 3\n",
    "            vinculacion = random.randint(1, 5)  # ID aleatoria de TIPOMIEMBROCOMUNIDAD entre 1 y 5\n",
    "            clave = fake.password(length=12, special_chars=False)\n",
    "\n",
    "            # Escribir la sentencia INSERT en el archivo\n",
    "            f.write(f\"INSERT INTO CLIENTE (CEDULA, CORREO, NOMBRE, CELULAR, VINCULACION, CLAVE) \"\n",
    "                    f\"VALUES ({cedula}, '{correo}', '{nombre}', {celular}, {vinculacion}, '{clave}');\\n\")"
   ]
  },
  {
   "cell_type": "code",
   "execution_count": 8,
   "metadata": {},
   "outputs": [],
   "source": [
    "\n",
    "#N_clientes = int(2e5)\n",
    "N_clientes = 10\n",
    "cargarCliente(fake, N_clientes)\n",
    "\n",
    "# FALTA CORRERLO COMPLETO\n"
   ]
  },
  {
   "cell_type": "code",
   "execution_count": 11,
   "metadata": {},
   "outputs": [],
   "source": [
    "def cargarOperador(fake : Faker, n : int = 0):\n",
    "\n",
    "    # Crear el archivo .txt para OPERADOR\n",
    "    with open('inserts_operador.txt', 'w') as f:\n",
    "        for id in range(1, n):\n",
    "            ingreso_por_aniocorrido = random.randint(int(1e6), int(1e9))  # Ingreso anual corrido aleatorio\n",
    "            ingreso_por_aniactual = random.randint(int(1e6), ingreso_por_aniocorrido)  # Ingreso anual actual aleatorio\n",
    "            nombre = fake.name() #.replace(\"'\", \"''\")  # Asegúrate de que el nombre no contenga apóstrofos\n",
    "            clave = fake.password(length=12, special_chars=False)\n",
    "\n",
    "            # Escribir la sentencia INSERT en el archivo\n",
    "            f.write(f\"INSERT INTO OPERADOR (ID, INGRESOPORANIOACTUAL, INGRESOPORANIOCORRIDO, NOMBRE, CLAVE) \"\n",
    "                    f\"VALUES ({id}, {ingreso_por_aniactual}, {ingreso_por_aniocorrido}, '{nombre}', '{clave}');\\n\")"
   ]
  },
  {
   "cell_type": "code",
   "execution_count": null,
   "metadata": {},
   "outputs": [],
   "source": [
    "#N_operador = int(1e4)\n",
    "N_operador = 10\n",
    "cargarOperador(fake, N_operador)\n",
    "\n",
    "# FALTA CORRERLO COMPLETO"
   ]
  },
  {
   "cell_type": "code",
   "execution_count": 4,
   "metadata": {},
   "outputs": [],
   "source": [
    "def cargarEmpresa(fake: Faker, N_operador: int):\n",
    "    # Crear el archivo .txt para EMPRESA\n",
    "    with open('inserts_empresa.txt', 'w') as f:\n",
    "        # Generar 'n' sentencias INSERT\n",
    "        for id in range(1, int(N_operador/2) + 1):\n",
    "            nit = id  # Suponiendo que este id existe en la tabla OPERADOR\n",
    "            ubicacion = fake.address().replace(\"\\n\", \", \").replace(\"'\", \"''\")  # Reemplaza saltos de línea y apóstrofos\n",
    "            recepcion = random.randint(0, 1)\n",
    "            registro_turismo = random.randint(100000000, 999999999)  # Número aleatorio de 9 dígitos\n",
    "            registro_camara = random.randint(100000000, 999999999)  # Número aleatorio de 9 dígitos\n",
    "            numero_contacto = fake.unique.random_int(min=1000000000, max=9999999999)  # Número de contacto único de 10 dígitos\n",
    "            tipo = random.randint(1, 3)  # ID aleatoria de TIPOOPERADOREMPRESA\n",
    "\n",
    "            # Escribir la sentencia INSERT en el archivo\n",
    "            f.write(f\"INSERT INTO EMPRESA (NIT, UBICACION, RECEPCION, REGISTROTURISMO, REGISTROCAMARA, NUMEROCONTACTO, TIPO) \"\n",
    "                    f\"VALUES ({nit}, '{ubicacion}', {recepcion}, {registro_turismo}, {registro_camara}, {numero_contacto}, {tipo});\\n\")\n"
   ]
  },
  {
   "cell_type": "code",
   "execution_count": 5,
   "metadata": {},
   "outputs": [],
   "source": [
    "#N_empresa = int(1e4)\n",
    "#N_empresa = 10\n",
    "\n",
    "cargarEmpresa(fake, N_operador)\n",
    "\n",
    "# FALTA CORRERLO COMPLETO"
   ]
  },
  {
   "cell_type": "code",
   "execution_count": null,
   "metadata": {},
   "outputs": [],
   "source": [
    "\n",
    "def cargarPersonaNatural(fake: Faker, N_operador: int):\n",
    "    # Crear el archivo .txt para PERSONANATURAL\n",
    "    with open('inserts_personanatural.txt', 'w') as f:\n",
    "        # Generar 'n' sentencias INSERT\n",
    "        for id in range(int(N_operador/2) + 1, n + 1):\n",
    "            cedula = id  # Suponiendo que este id existe en la tabla OPERADOR\n",
    "            celular = fake.unique.random_int(min=1000000000, max=9999999999)  # Número de contacto único de 10 dígitos\n",
    "            tipo = random.randint(1, 3)  # ID aleatoria de TIPOOPERADORNATURAL\n",
    "\n",
    "            # Escribir la sentencia INSERT en el archivo\n",
    "            f.write(f\"INSERT INTO PERSONANATURAL (CEDULA, CELULAR, TIPO) \"\n",
    "                    f\"VALUES ({cedula}, {celular}, {tipo});\\n\")\n",
    "\n"
   ]
  },
  {
   "cell_type": "code",
   "execution_count": null,
   "metadata": {},
   "outputs": [],
   "source": [
    "\n",
    "cargarPersonaNatural(fake, N_operador)\n",
    "\n",
    "# FALTA CORRERLO COMPLETO"
   ]
  },
  {
   "cell_type": "code",
   "execution_count": 10,
   "metadata": {},
   "outputs": [],
   "source": [
    "def cargarContrato(fake: Faker, N_reservas: int):\n",
    "    # Crear el archivo .txt para CONTRATO\n",
    "    with open('inserts_contrato.txt', 'w') as f:\n",
    "        # Generar 'n' sentencias INSERT\n",
    "        for id in range(1, int(N_reservas/2) + 1):\n",
    "            internet = random.randint(0, 1)\n",
    "            administracion = random.randint(0, 1)\n",
    "            servicios_publicos = random.randint(0, 1)\n",
    "            tv = random.randint(0, 1)\n",
    "\n",
    "            # Escribir la sentencia INSERT en el archivo\n",
    "            f.write(f\"INSERT INTO CONTRATO (ID, INTERNET, ADMINISTRACION, SERVICIOSPUBLICOS, TV) \"\n",
    "                    f\"VALUES ({id}, {internet}, {administracion}, {servicios_publicos}, {tv});\\n\")\n"
   ]
  },
  {
   "cell_type": "code",
   "execution_count": 11,
   "metadata": {},
   "outputs": [],
   "source": [
    "# estas se crean primero y luego las reservas\n",
    "\n",
    "#N_reservas = int(1e5)\n",
    "N_reservas = 10\n",
    "\n",
    "cargarContrato(fake, N_reservas)"
   ]
  },
  {
   "cell_type": "code",
   "execution_count": null,
   "metadata": {},
   "outputs": [],
   "source": [
    "\n",
    "def cargarSeguro(fake: Faker, n: int):\n",
    "    # Crear el archivo .txt para SEGURO\n",
    "    with open('inserts_seguro.txt', 'w') as f:\n",
    "        # Generar 'n' sentencias INSERT\n",
    "        for id in range(1, n + 1):\n",
    "            nombre_empresa = fake.company()\n",
    "            modalidad = random.choice(['presencial', 'digital'])\n",
    "            codeudor = random.randint(0, 1)\n",
    "            valor_arriendo = random.uniform(100000.0, 10000000.0)  # Ajusta el rango de acuerdo a tus necesidades\n",
    "            duracion = random.choice([3, 6, 12])\n",
    "\n",
    "            # Escribir la sentencia INSERT en el archivo\n",
    "            f.write(f\"INSERT INTO SEGURO (ID, NOMBREEMPRESA, MODALIDAD, CODEUDOR, VALORARRIENDO, DURACION) \"\n",
    "                    f\"VALUES ({id}, '{nombre_empresa}', '{modalidad}', {codeudor}, {valor_arriendo}, {duracion});\\n\")\n"
   ]
  },
  {
   "cell_type": "code",
   "execution_count": null,
   "metadata": {},
   "outputs": [],
   "source": [
    "#N_seguro = int(7500)\n",
    "N_seguro = 10\n",
    "cargarSeguro(fake, N_seguro)"
   ]
  },
  {
   "cell_type": "code",
   "execution_count": null,
   "metadata": {},
   "outputs": [],
   "source": [
    "def cargarHorario(fake: Faker, n: int):\n",
    "    # Crear el archivo .txt para HORARIO\n",
    "    with open('inserts_horario.txt', 'w') as f:\n",
    "        # Generar 'n' sentencias INSERT\n",
    "        for id in range(1, n + 1):\n",
    "            # Generar hora de apertura y cierre en formato 'HH:MM'\n",
    "            # Asume que la hora de apertura está entre las 6AM y las 10AM, y la hora de cierre entre las 8PM y las 12AM.\n",
    "            hora_apertura = fake.time(pattern=\"%H:%M\", end_datetime=datetime.time(10, 0))\n",
    "            hora_cierre = fake.time(pattern=\"%H:%M\", end_datetime=datetime.time(23, 59))\n",
    "\n",
    "            # Escribir la sentencia INSERT en el archivo\n",
    "            f.write(f\"INSERT INTO HORARIO (ID, HORAAPERTURA, HORACIERRE) \"\n",
    "                    f\"VALUES ({id}, TO_DATE('{hora_apertura}', 'HH24:MI'), TO_DATE('{hora_cierre}', 'HH24:MI'));\\n\")\n",
    "\n"
   ]
  },
  {
   "cell_type": "code",
   "execution_count": 3,
   "metadata": {},
   "outputs": [],
   "source": [
    "from datetime import datetime\n",
    "\n",
    "def cargarHorario(fake: Faker, n: int = 0):\n",
    "    with open(f'inserts_horario.txt', 'w') as f:\n",
    "        for id in range(1, n + 1):\n",
    "            # Genera solo las horas, no fechas completas\n",
    "            apertura = datetime.time(random.randint(0, 23), random.randint(0, 59), random.randint(0, 59))\n",
    "            cierre = datetime.time(random.randint(0, 23), random.randint(0, 59), random.randint(0, 59))\n",
    "\n",
    "            # Crea las cadenas de tiempo en el formato de Oracle\n",
    "            apertura_str = apertura.strftime('%H:%M:%S')\n",
    "            cierre_str = cierre.strftime('%H:%M:%S')\n",
    "\n",
    "            # Ahora, al insertar, usamos TO_TIMESTAMP y el formato 'HH24:MI:SS'\n",
    "            f.write(f\"INSERT INTO HORARIO (ID, HORAAPERTURA, HORACIERRE) \"\n",
    "                    f\"VALUES ({id}, \"\n",
    "                    f\"TO_TIMESTAMP('{apertura_str}', 'HH24:MI:SS'), \"\n",
    "                    f\"TO_TIMESTAMP('{cierre_str}', 'HH24:MI:SS'));\\n\")\n"
   ]
  },
  {
   "cell_type": "code",
   "execution_count": 5,
   "metadata": {},
   "outputs": [],
   "source": [
    "\n",
    "def cargarHorario(fake: Faker, n: int = 0):\n",
    "    with open(f'inserts_horario.txt', 'w') as f:\n",
    "        for id in range(1, n + 1):\n",
    "            # Genera solo las horas, no fechas completas\n",
    "            apertura = fake.time(pattern=\"%H:%M:%S\", end_datetime=None)\n",
    "            cierre = fake.time(pattern=\"%H:%M:%S\", end_datetime=None)\n",
    "            \n",
    "            f.write(f\"INSERT INTO HORARIO (ID, HORAAPERTURA, HORACIERRE) \"\n",
    "                    f\"VALUES ({id}, \"\n",
    "                    f\"TO_DATE('{apertura}', 'HH24:MI:SS'), \"\n",
    "                    f\"TO_DATE('{cierre}', 'HH24:MI:SS'));\\n\")\n"
   ]
  },
  {
   "cell_type": "code",
   "execution_count": 6,
   "metadata": {},
   "outputs": [],
   "source": [
    "\n",
    "#N_horario =7500\n",
    "N_horario = 10\n",
    "cargarHorario(fake, N_horario)\n"
   ]
  },
  {
   "cell_type": "code",
   "execution_count": 18,
   "metadata": {},
   "outputs": [],
   "source": [
    "def cargarAlojamiento(fake: Faker, n: int):\n",
    "    # Crear el archivo .txt para ALOJAMIENTO\n",
    "    fake1 = Faker()\n",
    "    fake2 = Faker()\n",
    "    with open('inserts_alojamiento.txt', 'w') as f:\n",
    "        # Generar 'n' sentencias INSERT\n",
    "        for id in range(1, n + 1):\n",
    "            num_habitaciones = random.randint(1, 10)\n",
    "            ubicacion = fake.address().replace(\"\\n\", \", \")\n",
    "            precio = random.uniform(100000.0, 10000000.0)  # Ajusta el rango de acuerdo a tus necesidades\n",
    "            amoblado = random.randint(0, 1)\n",
    "            capacidad = random.randint(10, 20)\n",
    "            compartido = random.randint(0, 1)\n",
    "            #indice_ocupacion = random.uniform(0.0, 1.0)\n",
    "            indice_ocupacion = random.randint(0, 100)\n",
    "            tipo = random.randint(1, 6)\n",
    "            \n",
    "            tiene_horario = random.randint(0, 1)\n",
    "            if tiene_horario == 1:\n",
    "                horario = fake1.unique.random_int(min=1, max=N_horario)\n",
    "            else:\n",
    "                horario = \"NULL\"\n",
    "            \n",
    "            tiene_seguro = random.randint(0, 1)\n",
    "            if tiene_seguro == 1:\n",
    "                seguro = fake2.unique.random_int(min=1, max=N_seguro)  \n",
    "            else:\n",
    "                seguro = \"NULL\"\n",
    "                 \n",
    "\n",
    "            operador = random.randint(1, N_operador)\n",
    "            activo = 1\n",
    "\n",
    "            # Escribir la sentencia INSERT en el archivo\n",
    "            f.write(f\"INSERT INTO ALOJAMIENTO (ID, NUMHABITACIONES, UBICACION, PRECIO, AMOBLADO, \"\n",
    "                    f\"CAPACIDAD, COMPARTIDO, INDICEOCUPACION, TIPO, HORARIO, SEGURO, OPERADOR, ACTIVO) \"\n",
    "                    f\"VALUES ({id}, {num_habitaciones}, '{ubicacion}', {precio}, {amoblado}, \"\n",
    "                    f\"{capacidad}, {compartido}, {indice_ocupacion}, {tipo}, {horario}, {seguro}, {operador}, {activo});\\n\")\n"
   ]
  },
  {
   "cell_type": "code",
   "execution_count": 19,
   "metadata": {},
   "outputs": [
    {
     "ename": "NameError",
     "evalue": "name 'N_horario' is not defined",
     "output_type": "error",
     "traceback": [
      "\u001b[1;31m---------------------------------------------------------------------------\u001b[0m",
      "\u001b[1;31mNameError\u001b[0m                                 Traceback (most recent call last)",
      "\u001b[1;32mc:\\Users\\eduar\\OneDrive - Universidad de los Andes\\OTROS\\Sofi-Edu\\2023-10\\_EDUARDO\\Sistemas Transaccionales\\DummyDataFaker-SQL\\carga_masiva.ipynb Cell 17\u001b[0m in \u001b[0;36m3\n\u001b[0;32m      <a href='vscode-notebook-cell:/c%3A/Users/eduar/OneDrive%20-%20Universidad%20de%20los%20Andes/OTROS/Sofi-Edu/2023-10/_EDUARDO/Sistemas%20Transaccionales/DummyDataFaker-SQL/carga_masiva.ipynb#X25sZmlsZQ%3D%3D?line=0'>1</a>\u001b[0m \u001b[39m#N_alojamiento = int(15e3)\u001b[39;00m\n\u001b[0;32m      <a href='vscode-notebook-cell:/c%3A/Users/eduar/OneDrive%20-%20Universidad%20de%20los%20Andes/OTROS/Sofi-Edu/2023-10/_EDUARDO/Sistemas%20Transaccionales/DummyDataFaker-SQL/carga_masiva.ipynb#X25sZmlsZQ%3D%3D?line=1'>2</a>\u001b[0m N_alojamiento \u001b[39m=\u001b[39m \u001b[39m10\u001b[39m\n\u001b[1;32m----> <a href='vscode-notebook-cell:/c%3A/Users/eduar/OneDrive%20-%20Universidad%20de%20los%20Andes/OTROS/Sofi-Edu/2023-10/_EDUARDO/Sistemas%20Transaccionales/DummyDataFaker-SQL/carga_masiva.ipynb#X25sZmlsZQ%3D%3D?line=2'>3</a>\u001b[0m cargarAlojamiento(fake, N_alojamiento)\n",
      "\u001b[1;32mc:\\Users\\eduar\\OneDrive - Universidad de los Andes\\OTROS\\Sofi-Edu\\2023-10\\_EDUARDO\\Sistemas Transaccionales\\DummyDataFaker-SQL\\carga_masiva.ipynb Cell 17\u001b[0m in \u001b[0;36m1\n\u001b[0;32m     <a href='vscode-notebook-cell:/c%3A/Users/eduar/OneDrive%20-%20Universidad%20de%20los%20Andes/OTROS/Sofi-Edu/2023-10/_EDUARDO/Sistemas%20Transaccionales/DummyDataFaker-SQL/carga_masiva.ipynb#X25sZmlsZQ%3D%3D?line=14'>15</a>\u001b[0m indice_ocupacion \u001b[39m=\u001b[39m random\u001b[39m.\u001b[39mrandint(\u001b[39m0\u001b[39m, \u001b[39m100\u001b[39m)\n\u001b[0;32m     <a href='vscode-notebook-cell:/c%3A/Users/eduar/OneDrive%20-%20Universidad%20de%20los%20Andes/OTROS/Sofi-Edu/2023-10/_EDUARDO/Sistemas%20Transaccionales/DummyDataFaker-SQL/carga_masiva.ipynb#X25sZmlsZQ%3D%3D?line=15'>16</a>\u001b[0m tipo \u001b[39m=\u001b[39m random\u001b[39m.\u001b[39mrandint(\u001b[39m1\u001b[39m, \u001b[39m6\u001b[39m)\n\u001b[1;32m---> <a href='vscode-notebook-cell:/c%3A/Users/eduar/OneDrive%20-%20Universidad%20de%20los%20Andes/OTROS/Sofi-Edu/2023-10/_EDUARDO/Sistemas%20Transaccionales/DummyDataFaker-SQL/carga_masiva.ipynb#X25sZmlsZQ%3D%3D?line=17'>18</a>\u001b[0m horario \u001b[39m=\u001b[39m fake1\u001b[39m.\u001b[39munique\u001b[39m.\u001b[39mrandom_int(\u001b[39mmin\u001b[39m\u001b[39m=\u001b[39m\u001b[39m1\u001b[39m, \u001b[39mmax\u001b[39m\u001b[39m=\u001b[39mN_horario)\n\u001b[0;32m     <a href='vscode-notebook-cell:/c%3A/Users/eduar/OneDrive%20-%20Universidad%20de%20los%20Andes/OTROS/Sofi-Edu/2023-10/_EDUARDO/Sistemas%20Transaccionales/DummyDataFaker-SQL/carga_masiva.ipynb#X25sZmlsZQ%3D%3D?line=18'>19</a>\u001b[0m seguro \u001b[39m=\u001b[39m fake2\u001b[39m.\u001b[39munique\u001b[39m.\u001b[39mrandom_int(\u001b[39mmin\u001b[39m\u001b[39m=\u001b[39m\u001b[39m1\u001b[39m, \u001b[39mmax\u001b[39m\u001b[39m=\u001b[39mN_seguro)   \n\u001b[0;32m     <a href='vscode-notebook-cell:/c%3A/Users/eduar/OneDrive%20-%20Universidad%20de%20los%20Andes/OTROS/Sofi-Edu/2023-10/_EDUARDO/Sistemas%20Transaccionales/DummyDataFaker-SQL/carga_masiva.ipynb#X25sZmlsZQ%3D%3D?line=20'>21</a>\u001b[0m operador \u001b[39m=\u001b[39m random\u001b[39m.\u001b[39mrandint(\u001b[39m1\u001b[39m, N_operador)\n",
      "\u001b[1;31mNameError\u001b[0m: name 'N_horario' is not defined"
     ]
    }
   ],
   "source": [
    "#N_alojamiento = int(15e3)\n",
    "N_alojamiento = 10\n",
    "cargarAlojamiento(fake, N_alojamiento)"
   ]
  },
  {
   "cell_type": "code",
   "execution_count": 8,
   "metadata": {},
   "outputs": [],
   "source": [
    "def cargarReserva(fake: Faker, n: int = 0, N_alojamiento = 1, N_cliente = 1, N_contrato = 1):\n",
    "    fake1 = Faker()\n",
    "    with open('inserts_reserva.txt', 'w') as f:\n",
    "        for id in range(1, n + 1):\n",
    "            fecha_inicio = fake.date_between(start_date='-3y', end_date='+1y')\n",
    "            fecha_final = fake.date_between(start_date=fecha_inicio, end_date='+3y')\n",
    "\n",
    "            # Las fechas de cancelación están en el pasado con respecto a la fecha de inicio\n",
    "            if random.randint(0, 1):\n",
    "                fecha_cancelacion = \"TO_DATE('{}', 'YYYY-MM-DD')\".format(fake.date_between(start_date='-3y', end_date=fecha_inicio))\n",
    "            else:\n",
    "                fecha_cancelacion = 'null'\n",
    "            alojamiento = random.randint(1, N_alojamiento)  # Asumiendo que tienes 1000 alojamientos\n",
    "            cliente = random.randint(1, N_cliente)  # Asumiendo que tienes 1000 clientes\n",
    "            if (id%2 == 0):\n",
    "                contrato = fake1.unique.random_int(min=1, max=N_contrato)\n",
    "            else:\n",
    "                contrato = 'null'\n",
    "            precio = round(random.uniform(int(1e5), int(5e7)), 2)  # Genera un número flotante aleatorio entre 100.000 y 50M con 2 decimales\n",
    "            cantidad_personas = random.randint(1, 3) \n",
    "            reserva_madre = 'null'  # Asumiendo que la reserva madre es una reserva anterior\n",
    "            \n",
    "            f.write(f\"INSERT INTO RESERVA (ID, FECHACANCELACION, FECHAINICIO, FECHAFINAL, ALOJAMIENTO, CLIENTE, CONTRATO, PRECIO, CANTIDADPERSONAS, RESERVAMADRE) \"\n",
    "                    f\"VALUES ({id}, \"\n",
    "                    f\"{fecha_cancelacion}, \"\n",
    "                    f\"TO_DATE('{fecha_inicio}', 'YYYY-MM-DD'), \"\n",
    "                    f\"TO_DATE('{fecha_final}', 'YYYY-MM-DD'), \"\n",
    "                    f\"{alojamiento}, \"\n",
    "                    f\"{cliente}, \"\n",
    "                    f\"{contrato}, \"\n",
    "                    f\"{precio}, \"\n",
    "                    f\"{cantidad_personas}, \"\n",
    "                    f\"{reserva_madre});\\n\")\n",
    "\n",
    "\n"
   ]
  },
  {
   "cell_type": "code",
   "execution_count": 9,
   "metadata": {},
   "outputs": [],
   "source": [
    "#N_reserva = int(4e5)\n",
    "N_reserva = 10\n",
    "cargarReserva(fake, N_reserva, N_alojamiento, N_cliente, N_contrato)"
   ]
  },
  {
   "cell_type": "code",
   "execution_count": null,
   "metadata": {},
   "outputs": [],
   "source": [
    "faltan Reserva, Servicio y Serv Publico"
   ]
  }
 ],
 "metadata": {
  "kernelspec": {
   "display_name": "Python 3",
   "language": "python",
   "name": "python3"
  },
  "language_info": {
   "codemirror_mode": {
    "name": "ipython",
    "version": 3
   },
   "file_extension": ".py",
   "mimetype": "text/x-python",
   "name": "python",
   "nbconvert_exporter": "python",
   "pygments_lexer": "ipython3",
   "version": "3.10.6"
  },
  "orig_nbformat": 4
 },
 "nbformat": 4,
 "nbformat_minor": 2
}
