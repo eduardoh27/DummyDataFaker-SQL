{
 "cells": [
  {
   "cell_type": "code",
   "execution_count": 1,
   "metadata": {},
   "outputs": [],
   "source": [
    "from faker import Faker\n",
    "import random\n",
    "\n",
    "# Instanciar Faker\n",
    "fake = Faker()"
   ]
  },
  {
   "cell_type": "code",
   "execution_count": 7,
   "metadata": {},
   "outputs": [],
   "source": [
    "def cargarCliente(fake : Faker, n : int = 0):\n",
    "\n",
    "    # Crear el archivo .txt\n",
    "    with open('inserts_cliente.txt', 'w') as f:\n",
    "        # Generar n sentencias INSERT\n",
    "        for id in range(1, n+1):\n",
    "            cedula = id\n",
    "            correo = fake.email()\n",
    "            nombre = fake.name() #.replace(\"'\", \"''\")  # Asegúrate de que el nombre no contenga apóstrofos\n",
    "            celular = fake.unique.random_int(min=3000000000, max=3999999999)  # Número de celular único de 10 dígitos quee empieza por 3\n",
    "            vinculacion = random.randint(1, 5)  # ID aleatoria de TIPOMIEMBROCOMUNIDAD entre 1 y 5\n",
    "            clave = fake.password(length=12, special_chars=False)\n",
    "\n",
    "            # Escribir la sentencia INSERT en el archivo\n",
    "            f.write(f\"INSERT INTO CLIENTE (CEDULA, CORREO, NOMBRE, CELULAR, VINCULACION, CLAVE) \"\n",
    "                    f\"VALUES ({cedula}, '{correo}', '{nombre}', {celular}, {vinculacion}, '{clave}');\\n\")"
   ]
  },
  {
   "cell_type": "code",
   "execution_count": 8,
   "metadata": {},
   "outputs": [],
   "source": [
    "\n",
    "#n = int(2e5)\n",
    "n = 10\n",
    "cargarCliente(fake, n)\n",
    "\n",
    "# FALTA CORRERLO COMPLETO\n"
   ]
  },
  {
   "cell_type": "code",
   "execution_count": 11,
   "metadata": {},
   "outputs": [],
   "source": [
    "def cargarOperador(fake : Faker, n : int = 0):\n",
    "\n",
    "    # Crear el archivo .txt para OPERADOR\n",
    "    with open('inserts_operador.txt', 'w') as f:\n",
    "        for id in range(1, n):\n",
    "            ingreso_por_aniocorrido = random.randint(int(1e6), int(1e9))  # Ingreso anual corrido aleatorio\n",
    "            ingreso_por_aniactual = random.randint(int(1e6), ingreso_por_aniocorrido)  # Ingreso anual actual aleatorio\n",
    "            nombre = fake.name() #.replace(\"'\", \"''\")  # Asegúrate de que el nombre no contenga apóstrofos\n",
    "            clave = fake.password(length=12, special_chars=False)\n",
    "\n",
    "            # Escribir la sentencia INSERT en el archivo\n",
    "            f.write(f\"INSERT INTO OPERADOR (ID, INGRESOPORANIOACTUAL, INGRESOPORANIOCORRIDO, NOMBRE, CLAVE) \"\n",
    "                    f\"VALUES ({id}, {ingreso_por_aniactual}, {ingreso_por_aniocorrido}, '{nombre}', '{clave}');\\n\")"
   ]
  },
  {
   "cell_type": "code",
   "execution_count": 10,
   "metadata": {},
   "outputs": [],
   "source": [
    "#n = int(1e4)\n",
    "n = 10\n",
    "cargarOperador(fake, n)\n",
    "\n",
    "# FALTA CORRERLO COMPLETO"
   ]
  },
  {
   "cell_type": "code",
   "execution_count": null,
   "metadata": {},
   "outputs": [],
   "source": []
  }
 ],
 "metadata": {
  "kernelspec": {
   "display_name": "Python 3",
   "language": "python",
   "name": "python3"
  },
  "language_info": {
   "codemirror_mode": {
    "name": "ipython",
    "version": 3
   },
   "file_extension": ".py",
   "mimetype": "text/x-python",
   "name": "python",
   "nbconvert_exporter": "python",
   "pygments_lexer": "ipython3",
   "version": "3.10.6"
  },
  "orig_nbformat": 4
 },
 "nbformat": 4,
 "nbformat_minor": 2
}
